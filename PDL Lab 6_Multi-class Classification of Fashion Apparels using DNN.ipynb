{
 "cells": [
  {
   "cell_type": "code",
   "execution_count": 1,
   "id": "d4df2860",
   "metadata": {},
   "outputs": [],
   "source": [
    "#Harishmitha\n",
    "#225229113"
   ]
  },
  {
   "cell_type": "markdown",
   "id": "d98feb9c",
   "metadata": {},
   "source": [
    "## Steps"
   ]
  },
  {
   "cell_type": "markdown",
   "id": "df3d0533",
   "metadata": {},
   "source": [
    "### 1. Open fashion_mnist dataset from keras"
   ]
  },
  {
   "cell_type": "code",
   "execution_count": 7,
   "id": "fc4f29ab",
   "metadata": {},
   "outputs": [],
   "source": [
    "import numpy as np\n",
    "import matplotlib.pyplot as plt\n",
    "import tensorflow as tf\n",
    "from tensorflow.keras.models import Sequential\n",
    "from tensorflow.keras.layers import Dense, Flatten"
   ]
  },
  {
   "cell_type": "code",
   "execution_count": 8,
   "id": "7de7f09a",
   "metadata": {},
   "outputs": [],
   "source": [
    "dataset = tf.keras.datasets.fashion_mnist.load_data()"
   ]
  },
  {
   "cell_type": "markdown",
   "id": "2a8a1cb8",
   "metadata": {},
   "source": [
    "### 2.Perform basic Exploratory Data Analysis(EDA)"
   ]
  },
  {
   "cell_type": "code",
   "execution_count": 9,
   "id": "41f845c8",
   "metadata": {},
   "outputs": [],
   "source": [
    "(X_train,y_train),(X_test,y_test)=dataset"
   ]
  },
  {
   "cell_type": "code",
   "execution_count": 10,
   "id": "66091d2f",
   "metadata": {},
   "outputs": [
    {
     "name": "stdout",
     "output_type": "stream",
     "text": [
      "X_train shape: (60000, 28, 28)\n",
      "y_train shape: (60000,)\n",
      "X_test shape: (10000, 28, 28)\n",
      "y_test shape: (10000,)\n"
     ]
    }
   ],
   "source": [
    "print(\"X_train shape:\",X_train.shape)\n",
    "print(\"y_train shape:\",y_train.shape)\n",
    "print(\"X_test shape:\",X_test.shape)\n",
    "print(\"y_test shape:\",y_test.shape)"
   ]
  },
  {
   "cell_type": "code",
   "execution_count": 11,
   "id": "72b7ad28",
   "metadata": {
    "scrolled": true
   },
   "outputs": [
    {
     "name": "stdout",
     "output_type": "stream",
     "text": [
      "X_train size: 47040000\n",
      "y_train size: 60000\n",
      "X_test size: 7840000\n",
      "y_test size: 10000\n"
     ]
    }
   ],
   "source": [
    "print(\"X_train size:\",X_train.size) \n",
    "print(\"y_train size:\", y_train.size)\n",
    "print(\"X_test size:\",X_test.size)\n",
    "print(\"y_test size:\",y_test.size)"
   ]
  },
  {
   "cell_type": "code",
   "execution_count": 12,
   "id": "58674744",
   "metadata": {},
   "outputs": [
    {
     "data": {
      "text/plain": [
       "array([[  0,   0,   1,   1,   0,   1,   0,   0,   0,   0,  34,  95,   0,\n",
       "          0,   0,   0,  52,  70,   0,   0,   0,   2,   1,   0,   1,   0,\n",
       "          0,   0],\n",
       "       [  0,   0,   0,   1,   1,   0,   0,  11,  59, 111, 113, 182, 169,\n",
       "        226, 255, 188, 175, 162, 105,  85,  31,   0,   0,   0,   1,   0,\n",
       "          0,   0],\n",
       "       [  0,   0,   1,   0,   0,  27,  89, 127, 127, 115, 101,  86,  81,\n",
       "         95,  91,  88,  78,  92, 115, 136, 139, 126,  73,   1,   0,   0,\n",
       "          0,   0],\n",
       "       [  0,   0,   0,   0,  49, 117, 113,  95,  94,  97,  98, 102, 101,\n",
       "         98,  91,  97, 104,  97, 101,  92,  95, 111, 128,  82,   1,   0,\n",
       "          0,   0],\n",
       "       [  0,   0,   0,  18, 118, 102,  92,  92,  92,  89,  94,  92,  86,\n",
       "         85,  88,  94,  92,  92,  95,  99,  95,  98,  89, 126,  24,   0,\n",
       "          0,   0],\n",
       "       [  0,   0,   0,  59, 127, 102,  95,  94,  97,  91,  86,  91,  92,\n",
       "         88,  86,  89,  91,  99, 102, 101,  98,  94,  99, 121,  57,   0,\n",
       "          0,   0],\n",
       "       [  0,   0,   0,  95, 118, 107,  98,  89,  84,  86,  86,  86,  89,\n",
       "         89,  85,  85,  92,  92,  89,  89,  88,  97, 107, 111,  97,   0,\n",
       "          0,   0],\n",
       "       [  0,   0,   0, 111, 126, 123, 111, 102, 102,  94,  91,  88,  89,\n",
       "         91,  86,  86,  95,  97,  91,  98, 104, 102, 111, 102, 111,   0,\n",
       "          0,   0],\n",
       "       [  0,   0,   0, 108, 107, 117, 146, 169, 111, 105,  91,  91,  88,\n",
       "         84,  88,  91,  92,  94, 105,  97, 136, 162, 104,  97, 114,   0,\n",
       "          0,   0],\n",
       "       [  0,   0,   1, 118, 104, 114, 169, 130,  85,  86,  82,  85,  85,\n",
       "         85,  86,  88,  88,  92,  92,  94,  95, 155, 104, 104, 123,   5,\n",
       "          0,   0],\n",
       "       [  0,   0,   4, 126,  97, 120,  92,  63, 104,  82,  86,  86,  84,\n",
       "         81,  82,  82,  82,  89,  84,  99,  65,  89, 130,  92, 120,  27,\n",
       "          0,   0],\n",
       "       [  0,   0,  10, 123,  95, 121,  66,  52, 117,  78,  86,  84,  76,\n",
       "         86,  88,  84,  84,  85,  81, 113,  55,  47, 149,  94, 124,  37,\n",
       "          0,   0],\n",
       "       [  0,   0,  14, 121,  98, 136,  70,   7, 140,  79,  88,  92,  81,\n",
       "         97,  85,  85,  91,  85,  79, 130,  27,  24, 160,  98, 127,  43,\n",
       "          0,   0],\n",
       "       [  0,   0,  20, 115,  91, 149,  46,   0, 130,  88,  88, 105,  89,\n",
       "         89,  85,  94,  99,  92,  82, 123,   8,  15, 160, 111, 121,  43,\n",
       "          0,   0],\n",
       "       [  0,   0,  31, 118,  89, 140,  13,   0, 113, 105,  97,  91,  94,\n",
       "         88,  94,  92,  97,  95,  89, 128,   4,   0, 159, 118, 121,  39,\n",
       "          0,   0],\n",
       "       [  0,   0,  42, 120,  86, 133,   4,   0, 110, 113, 101,  92,  89,\n",
       "         91,  89,  97,  94,  97,  89, 131,   0,   0, 155, 117, 126,  55,\n",
       "          0,   0],\n",
       "       [  0,   0,  55, 104,  86, 117,   1,   0, 127, 111,  92,  97,  94,\n",
       "         84,  98,  92,  95, 101,  92, 130,   2,   0, 134, 104, 114,  68,\n",
       "          0,   0],\n",
       "       [  0,   0,  70, 104,  97, 105,   0,   0, 130, 105,  95,  97,  95,\n",
       "         89,  97,  95,  92,  99,  98, 124,  11,   0, 113, 101, 108,  66,\n",
       "          0,   0],\n",
       "       [  0,   0,  76, 110,  99, 115,   0,   1, 131, 104,  98,  95,  98,\n",
       "         94,  95,  98,  91,  97, 102, 120,  11,   0,  91, 118, 114,  68,\n",
       "          0,   0],\n",
       "       [  0,   0,  65, 115,  99, 114,   0,  15, 139, 102,  97,  92,  95,\n",
       "         95,  94,  98,  94,  97, 102, 124,  14,   0,  79, 126, 118,  63,\n",
       "          0,   0],\n",
       "       [  0,   0,  49, 118, 105,  97,   0,  31, 139,  98, 102, 102, 101,\n",
       "         98, 101, 101, 101,  95,  94, 131,  39,   0,  82, 118, 118,  52,\n",
       "          0,   0],\n",
       "       [  0,   0,  43, 113, 108,  91,   0,  63, 137,  89, 101, 102, 107,\n",
       "        105, 107, 107, 104, 102,  91, 120,  55,   0,  82, 124, 118,  47,\n",
       "          0,   0],\n",
       "       [  0,   0,  43, 118, 114,  89,   0,  97, 121,  95, 102, 104, 107,\n",
       "        104, 104, 104,  97, 104,  95, 111,  68,   0,  79, 123, 115,  44,\n",
       "          0,   0],\n",
       "       [  0,   0,  42, 120, 118,  69,   0, 114, 111, 104, 104, 105, 108,\n",
       "        108, 108, 108, 102, 105, 104, 123,  92,   0,  75, 130, 124,  46,\n",
       "          0,   0],\n",
       "       [  0,   0,  44, 120, 117,  63,   0, 149, 124, 120, 120, 121, 124,\n",
       "        121, 118, 118, 117, 120, 115, 123, 117,   0,  69, 117, 123,  49,\n",
       "          0,   0],\n",
       "       [  0,   0,  50, 117, 117,  69,   1, 149, 136, 131, 134, 134, 136,\n",
       "        131, 130, 131, 131, 137, 133, 143, 147,   0,  75, 124, 117,  50,\n",
       "          0,   0],\n",
       "       [  0,   0,  65, 156, 150,  73,   0,   1,   0,   1,   2,   2,   2,\n",
       "          2,   2,   2,   2,   1,   2,   4,   8,   0,  81, 134, 131,  63,\n",
       "          0,   0],\n",
       "       [  0,   0,  14,  50,  33,  10,   0,   0,   0,   0,   0,   0,   0,\n",
       "          0,   0,   0,   0,   0,   0,   0,   0,   0,  20,  55,  59,  17,\n",
       "          0,   0]], dtype=uint8)"
      ]
     },
     "execution_count": 12,
     "metadata": {},
     "output_type": "execute_result"
    }
   ],
   "source": [
    "X_train[37]"
   ]
  },
  {
   "cell_type": "code",
   "execution_count": 13,
   "id": "f599eecf",
   "metadata": {},
   "outputs": [
    {
     "data": {
      "text/plain": [
       "2"
      ]
     },
     "execution_count": 13,
     "metadata": {},
     "output_type": "execute_result"
    }
   ],
   "source": [
    "y_train[37]"
   ]
  },
  {
   "cell_type": "code",
   "execution_count": 9,
   "id": "efa253ae",
   "metadata": {},
   "outputs": [
    {
     "data": {
      "image/png": "[encoded data removed]",
      "text/plain": [
       "<Figure size 480x480 with 1 Axes>"
      ]
     },
     "metadata": {},
     "output_type": "display_data"
    }
   ],
   "source": [
    "plt.matshow(X_train[30])\n",
    "plt.show()"
   ]
  },
  {
   "cell_type": "markdown",
   "id": "5a7de828",
   "metadata": {},
   "source": [
    "### 3.Normalize training and test data"
   ]
  },
  {
   "cell_type": "code",
   "execution_count": 14,
   "id": "ea827abf",
   "metadata": {},
   "outputs": [],
   "source": [
    "X_train = X_train.reshape((X_train.shape[0], 28*28)).astype('float32')\n",
    "X_test = X_test.reshape((X_test.shape[0], 28*28)).astype('float32')"
   ]
  },
  {
   "cell_type": "code",
   "execution_count": 15,
   "id": "6c1767ef",
   "metadata": {},
   "outputs": [],
   "source": [
    "X_train = X_train / 255\n",
    "X_test = X_test / 255"
   ]
  },
  {
   "cell_type": "code",
   "execution_count": 16,
   "id": "2225d18f",
   "metadata": {},
   "outputs": [
    {
     "data": {
      "text/plain": [
       "array([0.        , 0.        , 0.00392157, 0.00392157, 0.        ,\n",
       "       0.00392157, 0.        , 0.        , 0.        , 0.        ,\n",
       "       0.13333334, 0.37254903, 0.        , 0.        , 0.        ,\n",
       "       0.        , 0.20392157, 0.27450982, 0.        , 0.        ,\n",
       "       0.        , 0.00784314, 0.00392157, 0.        , 0.00392157,\n",
       "       0.        , 0.        , 0.        , 0.        , 0.        ,\n",
       "       0.        , 0.00392157, 0.00392157, 0.        , 0.        ,\n",
       "       0.04313726, 0.23137255, 0.43529412, 0.44313726, 0.7137255 ,\n",
       "       0.6627451 , 0.8862745 , 1.        , 0.7372549 , 0.6862745 ,\n",
       "       0.63529414, 0.4117647 , 0.33333334, 0.12156863, 0.        ,\n",
       "       0.        , 0.        , 0.00392157, 0.        , 0.        ,\n",
       "       0.        , 0.        , 0.        , 0.00392157, 0.        ,\n",
       "       0.        , 0.10588235, 0.34901962, 0.49803922, 0.49803922,\n",
       "       0.4509804 , 0.39607844, 0.3372549 , 0.31764707, 0.37254903,\n",
       "       0.35686275, 0.34509805, 0.30588236, 0.36078432, 0.4509804 ,\n",
       "       0.53333336, 0.54509807, 0.49411765, 0.28627452, 0.00392157,\n",
       "       0.        , 0.        , 0.        , 0.        , 0.        ,\n",
       "       0.        , 0.        , 0.        , 0.19215687, 0.45882353,\n",
       "       0.44313726, 0.37254903, 0.36862746, 0.38039216, 0.38431373,\n",
       "       0.4       , 0.39607844, 0.38431373, 0.35686275, 0.38039216,\n",
       "       0.40784314, 0.38039216, 0.39607844, 0.36078432, 0.37254903,\n",
       "       0.43529412, 0.5019608 , 0.32156864, 0.00392157, 0.        ,\n",
       "       0.        , 0.        , 0.        , 0.        , 0.        ,\n",
       "       0.07058824, 0.4627451 , 0.4       , 0.36078432, 0.36078432,\n",
       "       0.36078432, 0.34901962, 0.36862746, 0.36078432, 0.3372549 ,\n",
       "       0.33333334, 0.34509805, 0.36862746, 0.36078432, 0.36078432,\n",
       "       0.37254903, 0.3882353 , 0.37254903, 0.38431373, 0.34901962,\n",
       "       0.49411765, 0.09411765, 0.        , 0.        , 0.        ,\n",
       "       0.        , 0.        , 0.        , 0.23137255, 0.49803922,\n",
       "       0.4       , 0.37254903, 0.36862746, 0.38039216, 0.35686275,\n",
       "       0.3372549 , 0.35686275, 0.36078432, 0.34509805, 0.3372549 ,\n",
       "       0.34901962, 0.35686275, 0.3882353 , 0.4       , 0.39607844,\n",
       "       0.38431373, 0.36862746, 0.3882353 , 0.4745098 , 0.22352941,\n",
       "       0.        , 0.        , 0.        , 0.        , 0.        ,\n",
       "       0.        , 0.37254903, 0.4627451 , 0.41960785, 0.38431373,\n",
       "       0.34901962, 0.32941177, 0.3372549 , 0.3372549 , 0.3372549 ,\n",
       "       0.34901962, 0.34901962, 0.33333334, 0.33333334, 0.36078432,\n",
       "       0.36078432, 0.34901962, 0.34901962, 0.34509805, 0.38039216,\n",
       "       0.41960785, 0.43529412, 0.38039216, 0.        , 0.        ,\n",
       "       0.        , 0.        , 0.        , 0.        , 0.43529412,\n",
       "       0.49411765, 0.48235294, 0.43529412, 0.4       , 0.4       ,\n",
       "       0.36862746, 0.35686275, 0.34509805, 0.34901962, 0.35686275,\n",
       "       0.3372549 , 0.3372549 , 0.37254903, 0.38039216, 0.35686275,\n",
       "       0.38431373, 0.40784314, 0.4       , 0.43529412, 0.4       ,\n",
       "       0.43529412, 0.        , 0.        , 0.        , 0.        ,\n",
       "       0.        , 0.        , 0.42352942, 0.41960785, 0.45882353,\n",
       "       0.57254905, 0.6627451 , 0.43529412, 0.4117647 , 0.35686275,\n",
       "       0.35686275, 0.34509805, 0.32941177, 0.34509805, 0.35686275,\n",
       "       0.36078432, 0.36862746, 0.4117647 , 0.38039216, 0.53333336,\n",
       "       0.63529414, 0.40784314, 0.38039216, 0.44705883, 0.        ,\n",
       "       0.        , 0.        , 0.        , 0.        , 0.00392157,\n",
       "       0.4627451 , 0.40784314, 0.44705883, 0.6627451 , 0.50980395,\n",
       "       0.33333334, 0.3372549 , 0.32156864, 0.33333334, 0.33333334,\n",
       "       0.33333334, 0.3372549 , 0.34509805, 0.34509805, 0.36078432,\n",
       "       0.36078432, 0.36862746, 0.37254903, 0.60784316, 0.40784314,\n",
       "       0.40784314, 0.48235294, 0.01960784, 0.        , 0.        ,\n",
       "       0.        , 0.        , 0.01568628, 0.49411765, 0.38039216,\n",
       "       0.47058824, 0.36078432, 0.24705882, 0.40784314, 0.32156864,\n",
       "       0.3372549 , 0.3372549 , 0.32941177, 0.31764707, 0.32156864,\n",
       "       0.32156864, 0.32156864, 0.34901962, 0.32941177, 0.3882353 ,\n",
       "       0.25490198, 0.34901962, 0.50980395, 0.36078432, 0.47058824,\n",
       "       0.10588235, 0.        , 0.        , 0.        , 0.        ,\n",
       "       0.03921569, 0.48235294, 0.37254903, 0.4745098 , 0.25882354,\n",
       "       0.20392157, 0.45882353, 0.30588236, 0.3372549 , 0.32941177,\n",
       "       0.29803923, 0.3372549 , 0.34509805, 0.32941177, 0.32941177,\n",
       "       0.33333334, 0.31764707, 0.44313726, 0.21568628, 0.18431373,\n",
       "       0.58431375, 0.36862746, 0.4862745 , 0.14509805, 0.        ,\n",
       "       0.        , 0.        , 0.        , 0.05490196, 0.4745098 ,\n",
       "       0.38431373, 0.53333336, 0.27450982, 0.02745098, 0.54901963,\n",
       "       0.30980393, 0.34509805, 0.36078432, 0.31764707, 0.38039216,\n",
       "       0.33333334, 0.33333334, 0.35686275, 0.33333334, 0.30980393,\n",
       "       0.50980395, 0.10588235, 0.09411765, 0.627451  , 0.38431373,\n",
       "       0.49803922, 0.16862746, 0.        , 0.        , 0.        ,\n",
       "       0.        , 0.07843138, 0.4509804 , 0.35686275, 0.58431375,\n",
       "       0.18039216, 0.        , 0.50980395, 0.34509805, 0.34509805,\n",
       "       0.4117647 , 0.34901962, 0.34901962, 0.33333334, 0.36862746,\n",
       "       0.3882353 , 0.36078432, 0.32156864, 0.48235294, 0.03137255,\n",
       "       0.05882353, 0.627451  , 0.43529412, 0.4745098 , 0.16862746,\n",
       "       0.        , 0.        , 0.        , 0.        , 0.12156863,\n",
       "       0.4627451 , 0.34901962, 0.54901963, 0.05098039, 0.        ,\n",
       "       0.44313726, 0.4117647 , 0.38039216, 0.35686275, 0.36862746,\n",
       "       0.34509805, 0.36862746, 0.36078432, 0.38039216, 0.37254903,\n",
       "       0.34901962, 0.5019608 , 0.01568628, 0.        , 0.62352943,\n",
       "       0.4627451 , 0.4745098 , 0.15294118, 0.        , 0.        ,\n",
       "       0.        , 0.        , 0.16470589, 0.47058824, 0.3372549 ,\n",
       "       0.52156866, 0.01568628, 0.        , 0.43137255, 0.44313726,\n",
       "       0.39607844, 0.36078432, 0.34901962, 0.35686275, 0.34901962,\n",
       "       0.38039216, 0.36862746, 0.38039216, 0.34901962, 0.5137255 ,\n",
       "       0.        , 0.        , 0.60784316, 0.45882353, 0.49411765,\n",
       "       0.21568628, 0.        , 0.        , 0.        , 0.        ,\n",
       "       0.21568628, 0.40784314, 0.3372549 , 0.45882353, 0.00392157,\n",
       "       0.        , 0.49803922, 0.43529412, 0.36078432, 0.38039216,\n",
       "       0.36862746, 0.32941177, 0.38431373, 0.36078432, 0.37254903,\n",
       "       0.39607844, 0.36078432, 0.50980395, 0.00784314, 0.        ,\n",
       "       0.5254902 , 0.40784314, 0.44705883, 0.26666668, 0.        ,\n",
       "       0.        , 0.        , 0.        , 0.27450982, 0.40784314,\n",
       "       0.38039216, 0.4117647 , 0.        , 0.        , 0.50980395,\n",
       "       0.4117647 , 0.37254903, 0.38039216, 0.37254903, 0.34901962,\n",
       "       0.38039216, 0.37254903, 0.36078432, 0.3882353 , 0.38431373,\n",
       "       0.4862745 , 0.04313726, 0.        , 0.44313726, 0.39607844,\n",
       "       0.42352942, 0.25882354, 0.        , 0.        , 0.        ,\n",
       "       0.        , 0.29803923, 0.43137255, 0.3882353 , 0.4509804 ,\n",
       "       0.        , 0.00392157, 0.5137255 , 0.40784314, 0.38431373,\n",
       "       0.37254903, 0.38431373, 0.36862746, 0.37254903, 0.38431373,\n",
       "       0.35686275, 0.38039216, 0.4       , 0.47058824, 0.04313726,\n",
       "       0.        , 0.35686275, 0.4627451 , 0.44705883, 0.26666668,\n",
       "       0.        , 0.        , 0.        , 0.        , 0.25490198,\n",
       "       0.4509804 , 0.3882353 , 0.44705883, 0.        , 0.05882353,\n",
       "       0.54509807, 0.4       , 0.38039216, 0.36078432, 0.37254903,\n",
       "       0.37254903, 0.36862746, 0.38431373, 0.36862746, 0.38039216,\n",
       "       0.4       , 0.4862745 , 0.05490196, 0.        , 0.30980393,\n",
       "       0.49411765, 0.4627451 , 0.24705882, 0.        , 0.        ,\n",
       "       0.        , 0.        , 0.19215687, 0.4627451 , 0.4117647 ,\n",
       "       0.38039216, 0.        , 0.12156863, 0.54509807, 0.38431373,\n",
       "       0.4       , 0.4       , 0.39607844, 0.38431373, 0.39607844,\n",
       "       0.39607844, 0.39607844, 0.37254903, 0.36862746, 0.5137255 ,\n",
       "       0.15294118, 0.        , 0.32156864, 0.4627451 , 0.4627451 ,\n",
       "       0.20392157, 0.        , 0.        , 0.        , 0.        ,\n",
       "       0.16862746, 0.44313726, 0.42352942, 0.35686275, 0.        ,\n",
       "       0.24705882, 0.5372549 , 0.34901962, 0.39607844, 0.4       ,\n",
       "       0.41960785, 0.4117647 , 0.41960785, 0.41960785, 0.40784314,\n",
       "       0.4       , 0.35686275, 0.47058824, 0.21568628, 0.        ,\n",
       "       0.32156864, 0.4862745 , 0.4627451 , 0.18431373, 0.        ,\n",
       "       0.        , 0.        , 0.        , 0.16862746, 0.4627451 ,\n",
       "       0.44705883, 0.34901962, 0.        , 0.38039216, 0.4745098 ,\n",
       "       0.37254903, 0.4       , 0.40784314, 0.41960785, 0.40784314,\n",
       "       0.40784314, 0.40784314, 0.38039216, 0.40784314, 0.37254903,\n",
       "       0.43529412, 0.26666668, 0.        , 0.30980393, 0.48235294,\n",
       "       0.4509804 , 0.17254902, 0.        , 0.        , 0.        ,\n",
       "       0.        , 0.16470589, 0.47058824, 0.4627451 , 0.27058825,\n",
       "       0.        , 0.44705883, 0.43529412, 0.40784314, 0.40784314,\n",
       "       0.4117647 , 0.42352942, 0.42352942, 0.42352942, 0.42352942,\n",
       "       0.4       , 0.4117647 , 0.40784314, 0.48235294, 0.36078432,\n",
       "       0.        , 0.29411766, 0.50980395, 0.4862745 , 0.18039216,\n",
       "       0.        , 0.        , 0.        , 0.        , 0.17254902,\n",
       "       0.47058824, 0.45882353, 0.24705882, 0.        , 0.58431375,\n",
       "       0.4862745 , 0.47058824, 0.47058824, 0.4745098 , 0.4862745 ,\n",
       "       0.4745098 , 0.4627451 , 0.4627451 , 0.45882353, 0.47058824,\n",
       "       0.4509804 , 0.48235294, 0.45882353, 0.        , 0.27058825,\n",
       "       0.45882353, 0.48235294, 0.19215687, 0.        , 0.        ,\n",
       "       0.        , 0.        , 0.19607843, 0.45882353, 0.45882353,\n",
       "       0.27058825, 0.00392157, 0.58431375, 0.53333336, 0.5137255 ,\n",
       "       0.5254902 , 0.5254902 , 0.53333336, 0.5137255 , 0.50980395,\n",
       "       0.5137255 , 0.5137255 , 0.5372549 , 0.52156866, 0.56078434,\n",
       "       0.5764706 , 0.        , 0.29411766, 0.4862745 , 0.45882353,\n",
       "       0.19607843, 0.        , 0.        , 0.        , 0.        ,\n",
       "       0.25490198, 0.6117647 , 0.5882353 , 0.28627452, 0.        ,\n",
       "       0.00392157, 0.        , 0.00392157, 0.00784314, 0.00784314,\n",
       "       0.00784314, 0.00784314, 0.00784314, 0.00784314, 0.00784314,\n",
       "       0.00392157, 0.00784314, 0.01568628, 0.03137255, 0.        ,\n",
       "       0.31764707, 0.5254902 , 0.5137255 , 0.24705882, 0.        ,\n",
       "       0.        , 0.        , 0.        , 0.05490196, 0.19607843,\n",
       "       0.12941177, 0.03921569, 0.        , 0.        , 0.        ,\n",
       "       0.        , 0.        , 0.        , 0.        , 0.        ,\n",
       "       0.        , 0.        , 0.        , 0.        , 0.        ,\n",
       "       0.        , 0.        , 0.        , 0.07843138, 0.21568628,\n",
       "       0.23137255, 0.06666667, 0.        , 0.        ], dtype=float32)"
      ]
     },
     "execution_count": 16,
     "metadata": {},
     "output_type": "execute_result"
    }
   ],
   "source": [
    "X_train[37]"
   ]
  },
  {
   "cell_type": "markdown",
   "id": "2cfdd929",
   "metadata": {},
   "source": [
    "### 4.Build a simple baseline model with one hidden layer with 512 nodes for 10 epochs: Create model,compile,fit and evaluate on test set.save the model "
   ]
  },
  {
   "cell_type": "code",
   "execution_count": 17,
   "id": "f30f1721",
   "metadata": {},
   "outputs": [],
   "source": [
    "from keras.models import Sequential"
   ]
  },
  {
   "cell_type": "code",
   "execution_count": 18,
   "id": "66d47849",
   "metadata": {},
   "outputs": [],
   "source": [
    "from keras.layers import Activation,Dense"
   ]
  },
  {
   "cell_type": "code",
   "execution_count": 19,
   "id": "568d96dd",
   "metadata": {},
   "outputs": [],
   "source": [
    "from tensorflow.keras.models import Sequential"
   ]
  },
  {
   "cell_type": "code",
   "execution_count": 20,
   "id": "29991e7c",
   "metadata": {
    "scrolled": true
   },
   "outputs": [],
   "source": [
    "model=Sequential()\n",
    "model.add(Dense(512,input_dim=28*28,activation='relu'))\n",
    "model.add(Dense(10,activation='softmax'))"
   ]
  },
  {
   "cell_type": "code",
   "execution_count": 21,
   "id": "1092adcf",
   "metadata": {},
   "outputs": [],
   "source": [
    "model.compile(loss='mean_squared_error', metrics=['accuracy'])"
   ]
  },
  {
   "cell_type": "code",
   "execution_count": 22,
   "id": "a0954675",
   "metadata": {
    "scrolled": true
   },
   "outputs": [
    {
     "name": "stdout",
     "output_type": "stream",
     "text": [
      "Epoch 1/10\n",
      "1875/1875 [==============================] - 7s 3ms/step - loss: 27.6105 - accuracy: 0.0986\n",
      "Epoch 2/10\n",
      "1875/1875 [==============================] - 7s 4ms/step - loss: 27.6101 - accuracy: 0.1011\n",
      "Epoch 3/10\n",
      "1875/1875 [==============================] - 7s 4ms/step - loss: 27.6101 - accuracy: 0.1001\n",
      "Epoch 4/10\n",
      "1875/1875 [==============================] - 6s 3ms/step - loss: 27.6101 - accuracy: 0.1017\n",
      "Epoch 5/10\n",
      "1875/1875 [==============================] - 6s 3ms/step - loss: 27.6101 - accuracy: 0.0989\n",
      "Epoch 6/10\n",
      "1875/1875 [==============================] - 6s 3ms/step - loss: 27.6101 - accuracy: 0.0996\n",
      "Epoch 7/10\n",
      "1875/1875 [==============================] - 6s 3ms/step - loss: 27.6101 - accuracy: 0.1003\n",
      "Epoch 8/10\n",
      "1875/1875 [==============================] - 6s 3ms/step - loss: 27.6101 - accuracy: 0.1013\n",
      "Epoch 9/10\n",
      "1875/1875 [==============================] - 7s 4ms/step - loss: 27.6101 - accuracy: 0.1017\n",
      "Epoch 10/10\n",
      "1875/1875 [==============================] - 6s 3ms/step - loss: 27.6101 - accuracy: 0.1001\n"
     ]
    },
    {
     "data": {
      "text/plain": [
       "<keras.callbacks.History at 0x21fa94169e0>"
      ]
     },
     "execution_count": 22,
     "metadata": {},
     "output_type": "execute_result"
    }
   ],
   "source": [
    "model.fit(X_train,y_train,epochs=10)"
   ]
  },
  {
   "cell_type": "code",
   "execution_count": 23,
   "id": "12bf749d",
   "metadata": {},
   "outputs": [
    {
     "name": "stdout",
     "output_type": "stream",
     "text": [
      "313/313 [==============================] - 1s 1ms/step - loss: 27.6100 - accuracy: 0.1020\n"
     ]
    },
    {
     "data": {
      "text/plain": [
       "[27.609987258911133, 0.10199999809265137]"
      ]
     },
     "execution_count": 23,
     "metadata": {},
     "output_type": "execute_result"
    }
   ],
   "source": [
    "model.evaluate(X_test, y_test)"
   ]
  },
  {
   "cell_type": "code",
   "execution_count": 24,
   "id": "c34c4ff2",
   "metadata": {},
   "outputs": [
    {
     "name": "stdout",
     "output_type": "stream",
     "text": [
      "Model: \"sequential_1\"\n",
      "_________________________________________________________________\n",
      " Layer (type)                Output Shape              Param #   \n",
      "=================================================================\n",
      " dense_2 (Dense)             (None, 512)               401920    \n",
      "                                                                 \n",
      " dense_3 (Dense)             (None, 10)                5130      \n",
      "                                                                 \n",
      "=================================================================\n",
      "Total params: 407,050\n",
      "Trainable params: 407,050\n",
      "Non-trainable params: 0\n",
      "_________________________________________________________________\n"
     ]
    }
   ],
   "source": [
    "model.summary()"
   ]
  },
  {
   "cell_type": "markdown",
   "id": "2f2b3dbd",
   "metadata": {},
   "source": [
    "### 5. Performance Analysis\n",
    "\n",
    "Run different Neural Network models with number of layers as 2,3,4 and 5,each layer with 128,256,512 nodes.Try different optimizers and loss functions.For all models plot the number of parameters learned,training accuracy,testing accuracy and running time for testing in barchart.Analyse the results and discuss what you discovered!"
   ]
  },
  {
   "cell_type": "code",
   "execution_count": 25,
   "id": "9cdccc9b",
   "metadata": {},
   "outputs": [
    {
     "name": "stdout",
     "output_type": "stream",
     "text": [
      "Epoch 1/10\n",
      "1875/1875 [==============================] - 10s 5ms/step - loss: 27.6103 - accuracy: 0.0991\n",
      "Epoch 2/10\n",
      "1875/1875 [==============================] - 9s 5ms/step - loss: 27.6101 - accuracy: 0.0980\n",
      "Epoch 3/10\n",
      "1875/1875 [==============================] - 10s 5ms/step - loss: 27.6101 - accuracy: 0.1014\n",
      "Epoch 4/10\n",
      "1875/1875 [==============================] - 9s 5ms/step - loss: 27.6101 - accuracy: 0.0984\n",
      "Epoch 5/10\n",
      "1875/1875 [==============================] - 9s 5ms/step - loss: 27.6101 - accuracy: 0.0987\n",
      "Epoch 6/10\n",
      "1875/1875 [==============================] - 9s 5ms/step - loss: 27.6101 - accuracy: 0.1004\n",
      "Epoch 7/10\n",
      "1875/1875 [==============================] - 11s 6ms/step - loss: 27.6101 - accuracy: 0.1004\n",
      "Epoch 8/10\n",
      "1875/1875 [==============================] - 10s 5ms/step - loss: 27.6101 - accuracy: 0.1010\n",
      "Epoch 9/10\n",
      "1875/1875 [==============================] - 10s 5ms/step - loss: 27.6101 - accuracy: 0.0973\n",
      "Epoch 10/10\n",
      "1875/1875 [==============================] - 10s 5ms/step - loss: 27.6101 - accuracy: 0.1006\n",
      "313/313 [==============================] - 1s 2ms/step - loss: 27.6100 - accuracy: 0.1013\n"
     ]
    },
    {
     "data": {
      "text/plain": [
       "[27.609987258911133, 0.10130000114440918]"
      ]
     },
     "execution_count": 25,
     "metadata": {},
     "output_type": "execute_result"
    }
   ],
   "source": [
    "model1 = Sequential()\n",
    "model1.add(Dense(512, input_dim=28*28, activation='relu'))\n",
    "model1.add(Dense(512, input_dim=28*28, activation='relu'))\n",
    "model1.add(Dense(10,activation='softmax'))\n",
    "model1.compile(loss='mean_squared_error', metrics=['accuracy'])\n",
    "model1.fit(X_train,y_train,epochs=10)\n",
    "model1.evaluate(X_test,y_test)"
   ]
  },
  {
   "cell_type": "code",
   "execution_count": 26,
   "id": "f76a00fe",
   "metadata": {},
   "outputs": [
    {
     "name": "stdout",
     "output_type": "stream",
     "text": [
      "Epoch 1/10\n",
      "1875/1875 [==============================] - 6s 3ms/step - loss: 27.6101 - accuracy: 0.1002\n",
      "Epoch 2/10\n",
      "1875/1875 [==============================] - 5s 2ms/step - loss: 27.6101 - accuracy: 0.0999\n",
      "Epoch 3/10\n",
      "1875/1875 [==============================] - 4s 2ms/step - loss: 27.6101 - accuracy: 0.1022\n",
      "Epoch 4/10\n",
      "1875/1875 [==============================] - 4s 2ms/step - loss: 27.6101 - accuracy: 0.1008\n",
      "Epoch 5/10\n",
      "1875/1875 [==============================] - 5s 3ms/step - loss: 27.6101 - accuracy: 0.0970\n",
      "Epoch 6/10\n",
      "1875/1875 [==============================] - 4s 2ms/step - loss: 27.6101 - accuracy: 0.1019\n",
      "Epoch 7/10\n",
      "1875/1875 [==============================] - 4s 2ms/step - loss: 27.6101 - accuracy: 0.0975\n",
      "Epoch 8/10\n",
      "1875/1875 [==============================] - 4s 2ms/step - loss: 27.6101 - accuracy: 0.1024\n",
      "Epoch 9/10\n",
      "1875/1875 [==============================] - 4s 2ms/step - loss: 27.6101 - accuracy: 0.1001\n",
      "Epoch 10/10\n",
      "1875/1875 [==============================] - 5s 3ms/step - loss: 27.6101 - accuracy: 0.0999\n",
      "313/313 [==============================] - 1s 1ms/step - loss: 27.6100 - accuracy: 0.1006\n"
     ]
    },
    {
     "data": {
      "text/plain": [
       "[27.609987258911133, 0.1005999967455864]"
      ]
     },
     "execution_count": 26,
     "metadata": {},
     "output_type": "execute_result"
    }
   ],
   "source": [
    "model2 = Sequential()\n",
    "model2.add(Dense(256, input_dim=28*28, activation='relu'))\n",
    "model2.add(Dense(256, input_dim=28*28, activation='relu'))\n",
    "model2.add(Dense(10,activation='softmax'))\n",
    "model2.compile(loss='mean_squared_error', metrics=['accuracy'])\n",
    "model2.fit(X_train,y_train,epochs=10)\n",
    "model2.evaluate(X_test,y_test)"
   ]
  },
  {
   "cell_type": "code",
   "execution_count": 27,
   "id": "2cbfe25e",
   "metadata": {},
   "outputs": [
    {
     "name": "stdout",
     "output_type": "stream",
     "text": [
      "Epoch 1/10\n",
      "1875/1875 [==============================] - 4s 2ms/step - loss: 27.6101 - accuracy: 0.1018\n",
      "Epoch 2/10\n",
      "1875/1875 [==============================] - 3s 2ms/step - loss: 27.6101 - accuracy: 0.0998\n",
      "Epoch 3/10\n",
      "1875/1875 [==============================] - 3s 2ms/step - loss: 27.6101 - accuracy: 0.1015\n",
      "Epoch 4/10\n",
      "1875/1875 [==============================] - 3s 2ms/step - loss: 27.6101 - accuracy: 0.1002\n",
      "Epoch 5/10\n",
      "1875/1875 [==============================] - 3s 2ms/step - loss: 27.6101 - accuracy: 0.1014\n",
      "Epoch 6/10\n",
      "1875/1875 [==============================] - 3s 2ms/step - loss: 27.6101 - accuracy: 0.1006\n",
      "Epoch 7/10\n",
      "1875/1875 [==============================] - 3s 2ms/step - loss: 27.6101 - accuracy: 0.1018\n",
      "Epoch 8/10\n",
      "1875/1875 [==============================] - 3s 2ms/step - loss: 27.6101 - accuracy: 0.1001\n",
      "Epoch 9/10\n",
      "1875/1875 [==============================] - 3s 2ms/step - loss: 27.6101 - accuracy: 0.0998\n",
      "Epoch 10/10\n",
      "1875/1875 [==============================] - 3s 2ms/step - loss: 27.6101 - accuracy: 0.0994\n",
      "313/313 [==============================] - 1s 2ms/step - loss: 27.6100 - accuracy: 0.1003\n"
     ]
    },
    {
     "data": {
      "text/plain": [
       "[27.609987258911133, 0.10029999911785126]"
      ]
     },
     "execution_count": 27,
     "metadata": {},
     "output_type": "execute_result"
    }
   ],
   "source": [
    "model3 = Sequential()\n",
    "model3.add(Dense(128, input_dim=28*28, activation='relu'))\n",
    "model3.add(Dense(128, input_dim=28*28, activation='relu'))\n",
    "model3.add(Dense(10,activation='softmax'))\n",
    "model3.compile(loss='mean_squared_error', metrics=['accuracy'])\n",
    "model3.fit(X_train,y_train,epochs=10)\n",
    "model3.evaluate(X_test,y_test)"
   ]
  },
  {
   "cell_type": "code",
   "execution_count": 28,
   "id": "9ec33857",
   "metadata": {},
   "outputs": [
    {
     "name": "stdout",
     "output_type": "stream",
     "text": [
      "Epoch 1/10\n",
      "1875/1875 [==============================] - 12s 6ms/step - loss: 27.6102 - accuracy: 0.0990\n",
      "Epoch 2/10\n",
      "1875/1875 [==============================] - 11s 6ms/step - loss: 27.6101 - accuracy: 0.0992\n",
      "Epoch 3/10\n",
      "1875/1875 [==============================] - 12s 6ms/step - loss: 27.6101 - accuracy: 0.0988\n",
      "Epoch 4/10\n",
      "1875/1875 [==============================] - 12s 6ms/step - loss: 27.6101 - accuracy: 0.1009\n",
      "Epoch 5/10\n",
      "1875/1875 [==============================] - 11s 6ms/step - loss: 27.6101 - accuracy: 0.1002\n",
      "Epoch 6/10\n",
      "1875/1875 [==============================] - 12s 6ms/step - loss: 27.6101 - accuracy: 0.1008\n",
      "Epoch 7/10\n",
      "1875/1875 [==============================] - 13s 7ms/step - loss: 27.6101 - accuracy: 0.0995\n",
      "Epoch 8/10\n",
      "1875/1875 [==============================] - 12s 6ms/step - loss: 27.6101 - accuracy: 0.0998\n",
      "Epoch 9/10\n",
      "1875/1875 [==============================] - 12s 7ms/step - loss: 27.6101 - accuracy: 0.1007\n",
      "Epoch 10/10\n",
      "1875/1875 [==============================] - 12s 7ms/step - loss: 27.6101 - accuracy: 0.1001\n",
      "313/313 [==============================] - 1s 2ms/step - loss: 27.6100 - accuracy: 0.1015\n"
     ]
    },
    {
     "data": {
      "text/plain": [
       "[27.609987258911133, 0.1014999970793724]"
      ]
     },
     "execution_count": 28,
     "metadata": {},
     "output_type": "execute_result"
    }
   ],
   "source": [
    "model4 = Sequential()\n",
    "model4.add(Dense(512, input_dim=28*28, activation='relu'))\n",
    "model4.add(Dense(512, input_dim=28*28, activation='relu'))\n",
    "model4.add(Dense(512, input_dim=28*28, activation='relu'))\n",
    "model4.add(Dense(10,activation='softmax'))\n",
    "model4.compile(loss='mean_squared_error', metrics=['accuracy'])\n",
    "model4.fit(X_train,y_train,epochs=10)\n",
    "model4.evaluate(X_test,y_test)"
   ]
  },
  {
   "cell_type": "code",
   "execution_count": 29,
   "id": "0ce34ab3",
   "metadata": {},
   "outputs": [
    {
     "name": "stdout",
     "output_type": "stream",
     "text": [
      "Epoch 1/10\n",
      "1875/1875 [==============================] - 6s 3ms/step - loss: 27.6101 - accuracy: 0.0989\n",
      "Epoch 2/10\n",
      "1875/1875 [==============================] - 5s 3ms/step - loss: 27.6101 - accuracy: 0.1011\n",
      "Epoch 3/10\n",
      "1875/1875 [==============================] - 5s 3ms/step - loss: 27.6101 - accuracy: 0.1004\n",
      "Epoch 4/10\n",
      "1875/1875 [==============================] - 5s 3ms/step - loss: 27.6101 - accuracy: 0.0996\n",
      "Epoch 5/10\n",
      "1875/1875 [==============================] - 6s 3ms/step - loss: 27.6101 - accuracy: 0.0971\n",
      "Epoch 6/10\n",
      "1875/1875 [==============================] - 5s 3ms/step - loss: 27.6101 - accuracy: 0.0998\n",
      "Epoch 7/10\n",
      "1875/1875 [==============================] - 5s 3ms/step - loss: 27.6101 - accuracy: 0.1011\n",
      "Epoch 8/10\n",
      "1875/1875 [==============================] - 5s 3ms/step - loss: 27.6101 - accuracy: 0.1003\n",
      "Epoch 9/10\n",
      "1875/1875 [==============================] - 5s 3ms/step - loss: 27.6101 - accuracy: 0.0990\n",
      "Epoch 10/10\n",
      "1875/1875 [==============================] - 5s 3ms/step - loss: 27.6101 - accuracy: 0.0998\n",
      "313/313 [==============================] - 1s 1ms/step - loss: 27.6100 - accuracy: 0.0966\n"
     ]
    },
    {
     "data": {
      "text/plain": [
       "[27.609987258911133, 0.0966000035405159]"
      ]
     },
     "execution_count": 29,
     "metadata": {},
     "output_type": "execute_result"
    }
   ],
   "source": [
    "model5 = Sequential()\n",
    "model5.add(Dense(256, input_dim=28*28, activation='relu'))\n",
    "model5.add(Dense(256, input_dim=28*28, activation='relu'))\n",
    "model5.add(Dense(256, input_dim=28*28, activation='relu'))\n",
    "model5.add(Dense(10,activation='softmax'))\n",
    "model5.compile(loss='mean_squared_error', metrics=['accuracy'])\n",
    "model5.fit(X_train,y_train,epochs=10)\n",
    "model5.evaluate(X_test,y_test)"
   ]
  },
  {
   "cell_type": "code",
   "execution_count": 30,
   "id": "907f75b8",
   "metadata": {},
   "outputs": [
    {
     "name": "stdout",
     "output_type": "stream",
     "text": [
      "Epoch 1/10\n",
      "1875/1875 [==============================] - 4s 2ms/step - loss: 27.6101 - accuracy: 0.1007\n",
      "Epoch 2/10\n",
      "1875/1875 [==============================] - 3s 2ms/step - loss: 27.6101 - accuracy: 0.1025\n",
      "Epoch 3/10\n",
      "1875/1875 [==============================] - 3s 2ms/step - loss: 27.6101 - accuracy: 0.0980\n",
      "Epoch 4/10\n",
      "1875/1875 [==============================] - 3s 2ms/step - loss: 27.6101 - accuracy: 0.1011\n",
      "Epoch 5/10\n",
      "1875/1875 [==============================] - 3s 2ms/step - loss: 27.6101 - accuracy: 0.0995\n",
      "Epoch 6/10\n",
      "1875/1875 [==============================] - 3s 2ms/step - loss: 27.6101 - accuracy: 0.0989\n",
      "Epoch 7/10\n",
      "1875/1875 [==============================] - 3s 2ms/step - loss: 27.6101 - accuracy: 0.0987\n",
      "Epoch 8/10\n",
      "1875/1875 [==============================] - 3s 2ms/step - loss: 27.6101 - accuracy: 0.1004\n",
      "Epoch 9/10\n",
      "1875/1875 [==============================] - 3s 2ms/step - loss: 27.6101 - accuracy: 0.1018\n",
      "Epoch 10/10\n",
      "1875/1875 [==============================] - 3s 2ms/step - loss: 27.6101 - accuracy: 0.1005\n",
      "313/313 [==============================] - 1s 1ms/step - loss: 27.6100 - accuracy: 0.1000\n"
     ]
    },
    {
     "data": {
      "text/plain": [
       "[27.609983444213867, 0.10000000149011612]"
      ]
     },
     "execution_count": 30,
     "metadata": {},
     "output_type": "execute_result"
    }
   ],
   "source": [
    "model6 = Sequential()\n",
    "model6.add(Dense(128, input_dim=28*28, activation='relu'))\n",
    "model6.add(Dense(128, input_dim=28*28, activation='relu'))\n",
    "model6.add(Dense(128, input_dim=28*28, activation='relu'))\n",
    "model6.add(Dense(10,activation='softmax'))\n",
    "model6.compile(loss='mean_squared_error', metrics=['accuracy'])\n",
    "model6.fit(X_train,y_train,epochs=10)\n",
    "model6.evaluate(X_test,y_test)"
   ]
  },
  {
   "cell_type": "code",
   "execution_count": 31,
   "id": "73914582",
   "metadata": {},
   "outputs": [
    {
     "name": "stdout",
     "output_type": "stream",
     "text": [
      "Epoch 1/10\n",
      "1875/1875 [==============================] - 14s 7ms/step - loss: 27.6101 - accuracy: 0.1004\n",
      "Epoch 2/10\n",
      "1875/1875 [==============================] - 17s 9ms/step - loss: 27.6101 - accuracy: 0.1020\n",
      "Epoch 3/10\n",
      "1875/1875 [==============================] - 14s 7ms/step - loss: 27.6101 - accuracy: 0.0995\n",
      "Epoch 4/10\n",
      "1875/1875 [==============================] - 14s 7ms/step - loss: 27.6101 - accuracy: 0.0997\n",
      "Epoch 5/10\n",
      "1875/1875 [==============================] - 15s 8ms/step - loss: 27.6101 - accuracy: 0.1000\n",
      "Epoch 6/10\n",
      "1875/1875 [==============================] - 14s 7ms/step - loss: 27.6101 - accuracy: 0.0996\n",
      "Epoch 7/10\n",
      "1875/1875 [==============================] - 14s 7ms/step - loss: 27.6101 - accuracy: 0.1005\n",
      "Epoch 8/10\n",
      "1875/1875 [==============================] - 14s 7ms/step - loss: 27.6101 - accuracy: 0.0992\n",
      "Epoch 9/10\n",
      "1875/1875 [==============================] - 14s 7ms/step - loss: 27.6101 - accuracy: 0.0998\n",
      "Epoch 10/10\n",
      "1875/1875 [==============================] - 14s 8ms/step - loss: 27.6101 - accuracy: 0.1003\n",
      "313/313 [==============================] - 1s 2ms/step - loss: 27.6100 - accuracy: 0.1011\n"
     ]
    },
    {
     "data": {
      "text/plain": [
       "[27.609987258911133, 0.10109999775886536]"
      ]
     },
     "execution_count": 31,
     "metadata": {},
     "output_type": "execute_result"
    }
   ],
   "source": [
    "model7 = Sequential()\n",
    "model7.add(Dense(512, input_dim=28*28, activation='relu'))\n",
    "model7.add(Dense(512, input_dim=28*28, activation='relu'))\n",
    "model7.add(Dense(512, input_dim=28*28, activation='relu'))\n",
    "model7.add(Dense(512, input_dim=28*28, activation='relu'))\n",
    "model7.add(Dense(10,activation='softmax'))\n",
    "model7.compile(loss='mean_squared_error', metrics=['accuracy'])\n",
    "model7.fit(X_train,y_train,epochs=10)\n",
    "model7.evaluate(X_test,y_test)"
   ]
  },
  {
   "cell_type": "code",
   "execution_count": 32,
   "id": "551c1ca1",
   "metadata": {},
   "outputs": [
    {
     "name": "stdout",
     "output_type": "stream",
     "text": [
      "Epoch 1/10\n",
      "1875/1875 [==============================] - 6s 3ms/step - loss: 27.6101 - accuracy: 0.1031\n",
      "Epoch 2/10\n",
      "1875/1875 [==============================] - 6s 3ms/step - loss: 27.6101 - accuracy: 0.0988\n",
      "Epoch 3/10\n",
      "1875/1875 [==============================] - 6s 3ms/step - loss: 27.6101 - accuracy: 0.1004\n",
      "Epoch 4/10\n",
      "1875/1875 [==============================] - 5s 3ms/step - loss: 27.6101 - accuracy: 0.0982\n",
      "Epoch 5/10\n",
      "1875/1875 [==============================] - 5s 3ms/step - loss: 27.6100 - accuracy: 0.1003\n",
      "Epoch 6/10\n",
      "1875/1875 [==============================] - 6s 3ms/step - loss: 27.6101 - accuracy: 0.1003\n",
      "Epoch 7/10\n",
      "1875/1875 [==============================] - 6s 3ms/step - loss: 27.6101 - accuracy: 0.1005\n",
      "Epoch 8/10\n",
      "1875/1875 [==============================] - 6s 3ms/step - loss: 27.6101 - accuracy: 0.1000\n",
      "Epoch 9/10\n",
      "1875/1875 [==============================] - 5s 3ms/step - loss: 27.6101 - accuracy: 0.1009\n",
      "Epoch 10/10\n",
      "1875/1875 [==============================] - 5s 3ms/step - loss: 27.6101 - accuracy: 0.1011\n",
      "313/313 [==============================] - 1s 1ms/step - loss: 27.6100 - accuracy: 0.1000\n"
     ]
    },
    {
     "data": {
      "text/plain": [
       "[27.609987258911133, 0.10000000149011612]"
      ]
     },
     "execution_count": 32,
     "metadata": {},
     "output_type": "execute_result"
    }
   ],
   "source": [
    "model8 = Sequential()\n",
    "model8.add(Dense(256, input_dim=28*28, activation='relu'))\n",
    "model8.add(Dense(256, input_dim=28*28, activation='relu'))\n",
    "model8.add(Dense(256, input_dim=28*28, activation='relu'))\n",
    "model8.add(Dense(256, input_dim=28*28, activation='relu'))\n",
    "model8.add(Dense(10,activation='softmax'))\n",
    "model8.compile(loss='mean_squared_error', metrics=['accuracy'])\n",
    "model8.fit(X_train,y_train,epochs=10)\n",
    "model8.evaluate(X_test,y_test)"
   ]
  },
  {
   "cell_type": "code",
   "execution_count": 33,
   "id": "94595538",
   "metadata": {},
   "outputs": [
    {
     "name": "stdout",
     "output_type": "stream",
     "text": [
      "Epoch 1/10\n",
      "1875/1875 [==============================] - 4s 2ms/step - loss: 27.6101 - accuracy: 0.1008\n",
      "Epoch 2/10\n",
      "1875/1875 [==============================] - 4s 2ms/step - loss: 27.6101 - accuracy: 0.1006\n",
      "Epoch 3/10\n",
      "1875/1875 [==============================] - 4s 2ms/step - loss: 27.6101 - accuracy: 0.0965\n",
      "Epoch 4/10\n",
      "1875/1875 [==============================] - 4s 2ms/step - loss: 27.6101 - accuracy: 0.0991\n",
      "Epoch 5/10\n",
      "1875/1875 [==============================] - 5s 3ms/step - loss: 27.6101 - accuracy: 0.1012\n",
      "Epoch 6/10\n",
      "1875/1875 [==============================] - 4s 2ms/step - loss: 27.6101 - accuracy: 0.1013\n",
      "Epoch 7/10\n",
      "1875/1875 [==============================] - 4s 2ms/step - loss: 27.6101 - accuracy: 0.0997\n",
      "Epoch 8/10\n",
      "1875/1875 [==============================] - 4s 2ms/step - loss: 27.6101 - accuracy: 0.1007\n",
      "Epoch 9/10\n",
      "1875/1875 [==============================] - 4s 2ms/step - loss: 27.6101 - accuracy: 0.0996\n",
      "Epoch 10/10\n",
      "1875/1875 [==============================] - 4s 2ms/step - loss: 27.6101 - accuracy: 0.0982\n",
      "313/313 [==============================] - 1s 1ms/step - loss: 27.6100 - accuracy: 0.0999\n"
     ]
    },
    {
     "data": {
      "text/plain": [
       "[27.609983444213867, 0.09989999979734421]"
      ]
     },
     "execution_count": 33,
     "metadata": {},
     "output_type": "execute_result"
    }
   ],
   "source": [
    "model9 = Sequential()\n",
    "model9.add(Dense(128, input_dim=28*28, activation='relu'))\n",
    "model9.add(Dense(128, input_dim=28*28, activation='relu'))\n",
    "model9.add(Dense(128, input_dim=28*28, activation='relu'))\n",
    "model9.add(Dense(128, input_dim=28*28, activation='relu'))\n",
    "model9.add(Dense(10,activation='softmax'))\n",
    "model9.compile(loss='mean_squared_error', metrics=['accuracy'])\n",
    "model9.fit(X_train,y_train,epochs=10)\n",
    "model9.evaluate(X_test,y_test)"
   ]
  },
  {
   "cell_type": "code",
   "execution_count": 34,
   "id": "b9f07e67",
   "metadata": {},
   "outputs": [
    {
     "name": "stdout",
     "output_type": "stream",
     "text": [
      "Epoch 1/10\n",
      "1875/1875 [==============================] - 17s 8ms/step - loss: 27.6101 - accuracy: 0.0950\n",
      "Epoch 2/10\n",
      "1875/1875 [==============================] - 16s 8ms/step - loss: 27.6101 - accuracy: 0.0973\n",
      "Epoch 3/10\n",
      "1875/1875 [==============================] - 17s 9ms/step - loss: 27.6101 - accuracy: 0.0997\n",
      "Epoch 4/10\n",
      "1875/1875 [==============================] - 16s 9ms/step - loss: 27.6101 - accuracy: 0.0995\n",
      "Epoch 5/10\n",
      "1875/1875 [==============================] - 16s 9ms/step - loss: 27.6101 - accuracy: 0.0982\n",
      "Epoch 6/10\n",
      "1875/1875 [==============================] - 17s 9ms/step - loss: 27.6101 - accuracy: 0.0979\n",
      "Epoch 7/10\n",
      "1875/1875 [==============================] - 17s 9ms/step - loss: 27.6101 - accuracy: 0.1004\n",
      "Epoch 8/10\n",
      "1875/1875 [==============================] - 17s 9ms/step - loss: 27.6101 - accuracy: 0.0999\n",
      "Epoch 9/10\n",
      "1875/1875 [==============================] - 17s 9ms/step - loss: 27.6101 - accuracy: 0.1008\n",
      "Epoch 10/10\n",
      "1875/1875 [==============================] - 17s 9ms/step - loss: 27.6101 - accuracy: 0.1013\n",
      "313/313 [==============================] - 1s 2ms/step - loss: 27.6100 - accuracy: 0.1011\n"
     ]
    },
    {
     "data": {
      "text/plain": [
       "[27.609987258911133, 0.10109999775886536]"
      ]
     },
     "execution_count": 34,
     "metadata": {},
     "output_type": "execute_result"
    }
   ],
   "source": [
    "model10 = Sequential()\n",
    "model10.add(Dense(512, input_dim=28*28, activation='relu'))\n",
    "model10.add(Dense(512, input_dim=28*28, activation='relu'))\n",
    "model10.add(Dense(512, input_dim=28*28, activation='relu'))\n",
    "model10.add(Dense(512, input_dim=28*28, activation='relu'))\n",
    "model10.add(Dense(512, input_dim=28*28, activation='relu'))\n",
    "model10.add(Dense(10,activation='softmax'))\n",
    "model10.compile(loss='mean_squared_error', metrics=['accuracy'])\n",
    "model10.fit(X_train,y_train,epochs=10)\n",
    "model10.evaluate(X_test,y_test)"
   ]
  },
  {
   "cell_type": "code",
   "execution_count": 35,
   "id": "54752749",
   "metadata": {},
   "outputs": [
    {
     "name": "stdout",
     "output_type": "stream",
     "text": [
      "Epoch 1/10\n",
      "1875/1875 [==============================] - 7s 3ms/step - loss: 27.6101 - accuracy: 0.0991\n",
      "Epoch 2/10\n",
      "1875/1875 [==============================] - 7s 4ms/step - loss: 27.6101 - accuracy: 0.1015\n",
      "Epoch 3/10\n",
      "1875/1875 [==============================] - 6s 3ms/step - loss: 27.6101 - accuracy: 0.0984\n",
      "Epoch 4/10\n",
      "1875/1875 [==============================] - 7s 4ms/step - loss: 27.6101 - accuracy: 0.0998\n",
      "Epoch 5/10\n",
      "1875/1875 [==============================] - 7s 4ms/step - loss: 27.6101 - accuracy: 0.1001\n",
      "Epoch 6/10\n",
      "1875/1875 [==============================] - 7s 4ms/step - loss: 27.6101 - accuracy: 0.1006\n",
      "Epoch 7/10\n",
      "1875/1875 [==============================] - 7s 4ms/step - loss: 27.6101 - accuracy: 0.1001\n",
      "Epoch 8/10\n",
      "1875/1875 [==============================] - 8s 4ms/step - loss: 27.6101 - accuracy: 0.1021\n",
      "Epoch 9/10\n",
      "1875/1875 [==============================] - 8s 4ms/step - loss: 27.6101 - accuracy: 0.1013\n",
      "Epoch 10/10\n",
      "1875/1875 [==============================] - 7s 4ms/step - loss: 27.6101 - accuracy: 0.0997\n",
      "313/313 [==============================] - 1s 1ms/step - loss: 27.6100 - accuracy: 0.1008\n"
     ]
    },
    {
     "data": {
      "text/plain": [
       "[27.609983444213867, 0.10080000013113022]"
      ]
     },
     "execution_count": 35,
     "metadata": {},
     "output_type": "execute_result"
    }
   ],
   "source": [
    "model11 = Sequential()\n",
    "model11.add(Dense(256, input_dim=28*28, activation='relu'))\n",
    "model11.add(Dense(256, input_dim=28*28, activation='relu'))\n",
    "model11.add(Dense(256, input_dim=28*28, activation='relu'))\n",
    "model11.add(Dense(256, input_dim=28*28, activation='relu'))\n",
    "model11.add(Dense(256, input_dim=28*28, activation='relu'))\n",
    "model11.add(Dense(10,activation='softmax'))\n",
    "model11.compile(loss='mean_squared_error', metrics=['accuracy'])\n",
    "model11.fit(X_train,y_train,epochs=10)\n",
    "model11.evaluate(X_test,y_test)"
   ]
  },
  {
   "cell_type": "code",
   "execution_count": 36,
   "id": "66203491",
   "metadata": {},
   "outputs": [
    {
     "name": "stdout",
     "output_type": "stream",
     "text": [
      "Epoch 1/10\n",
      "1875/1875 [==============================] - 5s 2ms/step - loss: 27.6101 - accuracy: 0.0988\n",
      "Epoch 2/10\n",
      "1875/1875 [==============================] - 4s 2ms/step - loss: 27.6101 - accuracy: 0.0996\n",
      "Epoch 3/10\n",
      "1875/1875 [==============================] - 4s 2ms/step - loss: 27.6101 - accuracy: 0.1006\n",
      "Epoch 4/10\n",
      "1875/1875 [==============================] - 4s 2ms/step - loss: 27.6101 - accuracy: 0.0991\n",
      "Epoch 5/10\n",
      "1875/1875 [==============================] - 4s 2ms/step - loss: 27.6101 - accuracy: 0.0996\n",
      "Epoch 6/10\n",
      "1875/1875 [==============================] - 4s 2ms/step - loss: 27.6101 - accuracy: 0.1006\n",
      "Epoch 7/10\n",
      "1875/1875 [==============================] - 4s 2ms/step - loss: 27.6101 - accuracy: 0.1022\n",
      "Epoch 8/10\n",
      "1875/1875 [==============================] - 4s 2ms/step - loss: 27.6101 - accuracy: 0.1011\n",
      "Epoch 9/10\n",
      "1875/1875 [==============================] - 4s 2ms/step - loss: 27.6101 - accuracy: 0.0959\n",
      "Epoch 10/10\n",
      "1875/1875 [==============================] - 5s 2ms/step - loss: 27.6101 - accuracy: 0.0994\n",
      "313/313 [==============================] - 1s 1ms/step - loss: 27.6100 - accuracy: 0.1003\n"
     ]
    },
    {
     "data": {
      "text/plain": [
       "[27.609983444213867, 0.10029999911785126]"
      ]
     },
     "execution_count": 36,
     "metadata": {},
     "output_type": "execute_result"
    }
   ],
   "source": [
    "model12 = Sequential()\n",
    "model12.add(Dense(128, input_dim=28*28, activation='relu'))\n",
    "model12.add(Dense(128, input_dim=28*28, activation='relu'))\n",
    "model12.add(Dense(128, input_dim=28*28, activation='relu'))\n",
    "model12.add(Dense(128, input_dim=28*28, activation='relu'))\n",
    "model12.add(Dense(128, input_dim=28*28, activation='relu'))\n",
    "model12.add(Dense(10,activation='softmax'))\n",
    "model12.compile(loss='mean_squared_error', metrics=['accuracy'])\n",
    "model12.fit(X_train,y_train,epochs=10)\n",
    "model12.evaluate(X_test,y_test)"
   ]
  },
  {
   "cell_type": "code",
   "execution_count": null,
   "id": "9ac9c90b",
   "metadata": {},
   "outputs": [],
   "source": []
  }
 ],
 "metadata": {
  "kernelspec": {
   "display_name": "Python 3 (ipykernel)",
   "language": "python",
   "name": "python3"
  },
  "language_info": {
   "codemirror_mode": {
    "name": "ipython",
    "version": 3
   },
   "file_extension": ".py",
   "mimetype": "text/x-python",
   "name": "python",
   "nbconvert_exporter": "python",
   "pygments_lexer": "ipython3",
   "version": "3.9.12"
  }
 },
 "nbformat": 4,
 "nbformat_minor": 5
}
