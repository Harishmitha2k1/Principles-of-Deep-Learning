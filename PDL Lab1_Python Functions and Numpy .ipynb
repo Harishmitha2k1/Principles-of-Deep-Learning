{
 "cells": [
  {
   "cell_type": "code",
   "execution_count": 1,
   "id": "c96df80d",
   "metadata": {},
   "outputs": [],
   "source": [
    "#Harishmitha\n",
    "#225229113"
   ]
  },
  {
   "cell_type": "markdown",
   "id": "a4ddc86e",
   "metadata": {},
   "source": [
    "## Part-I: Write a method for sigmoid function"
   ]
  },
  {
   "cell_type": "markdown",
   "id": "008a17e1",
   "metadata": {},
   "source": [
    "#### 1. Write a function, mysigmoid(x), that takes the real number x and returns the sigmoid value using math.exp()."
   ]
  },
  {
   "cell_type": "code",
   "execution_count": 2,
   "id": "d3d4bdf2",
   "metadata": {},
   "outputs": [],
   "source": [
    "import math \n",
    "def mysigmoid(x):\n",
    "    return 1 / (1+math.exp(-x))"
   ]
  },
  {
   "cell_type": "markdown",
   "id": "d3b69260",
   "metadata": {},
   "source": [
    "#### 2. Call mysigmoid() with x=4 and print the sigmoid value of 4."
   ]
  },
  {
   "cell_type": "code",
   "execution_count": 3,
   "id": "e0bbd5ca",
   "metadata": {},
   "outputs": [
    {
     "name": "stdout",
     "output_type": "stream",
     "text": [
      "Sigmoid value of 4 is 0.9820137900379085\n"
     ]
    }
   ],
   "source": [
    "x=4\n",
    "sig = mysigmoid(x)\n",
    "print(\"Sigmoid value of 4 is\",sig)"
   ]
  },
  {
   "cell_type": "markdown",
   "id": "619ec44c",
   "metadata": {},
   "source": [
    "#### 3. Now, find the sigmoid values for x=[1, 2, 3]. Observe the results."
   ]
  },
  {
   "cell_type": "code",
   "execution_count": 4,
   "id": "d5d8cf60",
   "metadata": {},
   "outputs": [
    {
     "name": "stdout",
     "output_type": "stream",
     "text": [
      "Sigmoid values of [1,2,3] are [0.7310585786300049, 0.8807970779778823, 0.9525741268224334]\n"
     ]
    }
   ],
   "source": [
    "x = [1,2,3]\n",
    "sig = [mysigmoid(val) for val in x]\n",
    "print(\"Sigmoid values of [1,2,3] are\",sig)"
   ]
  },
  {
   "cell_type": "markdown",
   "id": "3fe61e0f",
   "metadata": {},
   "source": [
    "#### 4. Rewrite mysigmoid() using np.exp() function."
   ]
  },
  {
   "cell_type": "code",
   "execution_count": 5,
   "id": "21b38c25",
   "metadata": {},
   "outputs": [],
   "source": [
    "import numpy as np \n",
    "def sigmoid(x):\n",
    "    return 1 / (1 + np.exp(-x))"
   ]
  },
  {
   "cell_type": "markdown",
   "id": "225d1a4f",
   "metadata": {},
   "source": [
    "#### 5. Now call your function with x=[1, 2, 3] and observe the results"
   ]
  },
  {
   "cell_type": "code",
   "execution_count": 6,
   "id": "493e3bec",
   "metadata": {},
   "outputs": [
    {
     "name": "stdout",
     "output_type": "stream",
     "text": [
      "sigmoid values of [1,2,3] are [0.7310585786300049, 0.8807970779778823, 0.9525741268224334]\n"
     ]
    }
   ],
   "source": [
    "x=[1,2,3]\n",
    "sig = [mysigmoid(val) for val in x]\n",
    "print(\"sigmoid values of [1,2,3] are\",sig)"
   ]
  },
  {
   "cell_type": "markdown",
   "id": "8df61cc7",
   "metadata": {},
   "source": [
    "#### 6. Understand the difference between scalar and vector."
   ]
  },
  {
   "cell_type": "code",
   "execution_count": null,
   "id": "07825b73",
   "metadata": {},
   "outputs": [],
   "source": []
  },
  {
   "cell_type": "markdown",
   "id": "fa78ede9",
   "metadata": {},
   "source": [
    "## Part-II: Gradient or derivative of sigmoid function"
   ]
  },
  {
   "cell_type": "markdown",
   "id": "eaf3f4bc",
   "metadata": {},
   "source": [
    "#### We compute gradients to optimize loss functions using backpropagation. s_derivative = s * (1 – s), where s = sigmoid(X) Write a function, sig_derivative(s) that returns the gradient of s. You should call your earlier function, mysigmoid() to compute the sigmoid value."
   ]
  },
  {
   "cell_type": "code",
   "execution_count": 7,
   "id": "cd6fad67",
   "metadata": {},
   "outputs": [
    {
     "name": "stdout",
     "output_type": "stream",
     "text": [
      "Gradient of sigmoid(9): 0.00012337934976493025\n"
     ]
    }
   ],
   "source": [
    "def sig_derivative(s):\n",
    "    return s * (1 - s)\n",
    "x = 9\n",
    "sigm=mysigmoid(x)\n",
    "gradient = sig_derivative(sigm)\n",
    "print(\"Gradient of sigmoid(9):\", gradient)"
   ]
  },
  {
   "cell_type": "markdown",
   "id": "825fbf85",
   "metadata": {},
   "source": [
    "## Part-III: Write a method image_to_vector()"
   ]
  },
  {
   "cell_type": "markdown",
   "id": "3b2dfefc",
   "metadata": {},
   "source": [
    "####  X.shape is used to get the shape (dimension) of a matrix/vector X.\n",
    "####  X.reshape(...) is used to reshape X into some other dimension.\n",
    "#### Image Representation: an image is represented by a 3D array of shape (length,height,depth=3). However, when you read an image as the input of an algorithm you convert it to a vector of shape (length∗height∗3,1) . In other words, you \"unroll\", or reshape, the 3D array into a 1D vector."
   ]
  },
  {
   "cell_type": "markdown",
   "id": "253cc5ff",
   "metadata": {},
   "source": [
    "#### 1). Now, implement image_to_vector() that takes an input of shape (length, height, 3) and returns a vector of shape (length*height*3, 1). For example, if you would like to reshape an array v of shape (a, b, c) into a vector of shape (a*b,c) you would do: v = v.reshape((v.shape[0]*v.shape[1], v.shape[2])) #v.shape[0] = a ; v.shape[1] = b ; v.shape[2] = c"
   ]
  },
  {
   "cell_type": "code",
   "execution_count": 8,
   "id": "40c07eb4",
   "metadata": {},
   "outputs": [
    {
     "name": "stdout",
     "output_type": "stream",
     "text": [
      "Vector shape: (18, 1)\n",
      "Vector:\n",
      "[[ 1]\n",
      " [ 2]\n",
      " [ 3]\n",
      " [ 4]\n",
      " [ 5]\n",
      " [ 6]\n",
      " [ 7]\n",
      " [ 8]\n",
      " [ 9]\n",
      " [10]\n",
      " [11]\n",
      " [12]\n",
      " [13]\n",
      " [14]\n",
      " [15]\n",
      " [16]\n",
      " [17]\n",
      " [18]]\n"
     ]
    }
   ],
   "source": [
    "def image_to_vector(image):\n",
    "    length, height, channels = image.shape\n",
    "    vector = image.reshape((length * height * channels, 1))\n",
    "    return vector\n",
    "\n",
    "# Example:\n",
    "image = np.array([\n",
    "    [[1, 2, 3], [4, 5, 6]],\n",
    "    [[7, 8, 9], [10, 11, 12]],\n",
    "    [[13, 14, 15], [16, 17, 18]]\n",
    "])\n",
    "\n",
    "vector = image_to_vector(image)\n",
    "print(\"Vector shape:\", vector.shape)\n",
    "print(\"Vector:\")\n",
    "print(vector)\n",
    "\n"
   ]
  },
  {
   "cell_type": "markdown",
   "id": "28294111",
   "metadata": {},
   "source": [
    "#### 2). Test with a 3x3x2 array of values of RGB color values."
   ]
  },
  {
   "cell_type": "code",
   "execution_count": 9,
   "id": "50646a1f",
   "metadata": {},
   "outputs": [
    {
     "name": "stdout",
     "output_type": "stream",
     "text": [
      "Vector shape: (27, 1)\n",
      "Vector:\n",
      "[[255]\n",
      " [  0]\n",
      " [  0]\n",
      " [  0]\n",
      " [255]\n",
      " [  0]\n",
      " [  0]\n",
      " [  0]\n",
      " [255]\n",
      " [255]\n",
      " [255]\n",
      " [  0]\n",
      " [255]\n",
      " [  0]\n",
      " [255]\n",
      " [  0]\n",
      " [255]\n",
      " [255]\n",
      " [128]\n",
      " [128]\n",
      " [128]\n",
      " [ 64]\n",
      " [ 64]\n",
      " [ 64]\n",
      " [192]\n",
      " [192]\n",
      " [192]]\n"
     ]
    }
   ],
   "source": [
    "def image_to_vector(image):\n",
    "    length, height, channels = image.shape\n",
    "    vector = image.reshape((length * height * channels, 1))\n",
    "    return vector\n",
    "\n",
    "# array of RGB values\n",
    "image = np.array([\n",
    "    [[255, 0, 0], [0, 255, 0], [0, 0, 255]],\n",
    "    [[255, 255, 0], [255, 0, 255], [0, 255, 255]],\n",
    "    [[128, 128, 128], [64, 64, 64], [192, 192, 192]]\n",
    "])\n",
    "\n",
    "vector = image_to_vector(image)\n",
    "print(\"Vector shape:\", vector.shape)\n",
    "print(\"Vector:\")\n",
    "print(vector)\n"
   ]
  },
  {
   "cell_type": "markdown",
   "id": "f41b3483",
   "metadata": {},
   "source": [
    "## Part-IV: Write a method normalizeRows()"
   ]
  },
  {
   "cell_type": "markdown",
   "id": "d969eaa6",
   "metadata": {},
   "source": [
    "#### Implement normalizeRows() to normalize the rows of a matrix. After applying this function to an input matrix x, each row of x should be a vector of unit length (meaning length 1). You can use np.linalg.norm() method."
   ]
  },
  {
   "cell_type": "code",
   "execution_count": 10,
   "id": "c0027207",
   "metadata": {},
   "outputs": [
    {
     "name": "stdout",
     "output_type": "stream",
     "text": [
      "Normalized matrix:\n",
      "[[0.26726124 0.53452248 0.80178373]\n",
      " [0.45584231 0.56980288 0.68376346]\n",
      " [0.50257071 0.57436653 0.64616234]]\n"
     ]
    }
   ],
   "source": [
    "def normalizeRows(x):\n",
    "    norms = np.linalg.norm(x, axis=1, keepdims=True)\n",
    "    return x / norms\n",
    "\n",
    "# Example :\n",
    "x = np.array([\n",
    "    [1, 2, 3],\n",
    "    [4, 5, 6],\n",
    "    [7, 8, 9]\n",
    "])\n",
    "\n",
    "normalized_x = normalizeRows(x)\n",
    "print(\"Normalized matrix:\")\n",
    "print(normalized_x)"
   ]
  },
  {
   "cell_type": "markdown",
   "id": "8bbb7052",
   "metadata": {},
   "source": [
    "## Part-V: Multiplication and Vectorization Operations"
   ]
  },
  {
   "cell_type": "code",
   "execution_count": 11,
   "id": "37b86c73",
   "metadata": {},
   "outputs": [],
   "source": [
    "#In deep learning, you deal with very large datasets. So multiplication takes long execution time than vectorization."
   ]
  },
  {
   "cell_type": "markdown",
   "id": "ea70d629",
   "metadata": {},
   "source": [
    "#### 1). For the following two vectors, find the multiplication value and the dot product. First compute multiplication and dot product manually. Then, you can use np.multiply() and np.dot() functions."
   ]
  },
  {
   "cell_type": "markdown",
   "id": "73ee32cf",
   "metadata": {},
   "source": [
    "#### a).\n",
    "#### x1 = [9, 2, 5]\n",
    "#### x2 = [7, 2, 2]"
   ]
  },
  {
   "cell_type": "code",
   "execution_count": 12,
   "id": "f965c521",
   "metadata": {},
   "outputs": [
    {
     "name": "stdout",
     "output_type": "stream",
     "text": [
      "Multiplication: [63  4 10]\n",
      "Dot product: 77\n"
     ]
    }
   ],
   "source": [
    "x1 = np.array([9, 2, 5])\n",
    "x2 = np.array([7, 2, 2])\n",
    "\n",
    "multi_fun = np.multiply(x1, x2)\n",
    "print(\"Multiplication:\", multi_fun)\n",
    "\n",
    "dot_fun = np.dot(x1, x2)\n",
    "print(\"Dot product:\", dot_fun)\n"
   ]
  },
  {
   "cell_type": "markdown",
   "id": "813f2e84",
   "metadata": {},
   "source": [
    "#### b).\n",
    "#### x1 = [9, 2, 5, 0, 0, 7, 5, 0, 0, 0, 9, 2, 5, 0, 0, 4, 5, 7]\n",
    "#### x2 = [7, 2, 2, 9, 0, 9, 2, 5, 0, 0, 9, 2, 5, 0, 0, 8, 5, 3]"
   ]
  },
  {
   "cell_type": "code",
   "execution_count": 13,
   "id": "b9363b2b",
   "metadata": {},
   "outputs": [
    {
     "name": "stdout",
     "output_type": "stream",
     "text": [
      "Multiplication: [63  4 10  0  0 63 10  0  0  0 81  4 25  0  0 32 25 21]\n",
      "Dot product: 338\n"
     ]
    }
   ],
   "source": [
    "x1 = np.array([9, 2, 5, 0, 0, 7, 5, 0, 0, 0, 9, 2, 5, 0, 0, 4, 5, 7])\n",
    "x2 = np.array([7, 2, 2, 9, 0, 9, 2, 5, 0, 0, 9, 2, 5, 0, 0, 8, 5, 3])\n",
    "\n",
    "mul_fun = np.multiply(x1, x2)\n",
    "print(\"Multiplication:\", mul_fun)\n",
    "\n",
    "dot_fun = np.dot(x1, x2)\n",
    "print(\"Dot product:\", dot_fun)"
   ]
  },
  {
   "cell_type": "markdown",
   "id": "1bbdb98a",
   "metadata": {},
   "source": [
    "#### 2). Create two random vectors of N elements, perform multiplication and vectorization operations and print the respective running times. Is running time of vectorization is less?."
   ]
  },
  {
   "cell_type": "code",
   "execution_count": 14,
   "id": "0f10dcc4",
   "metadata": {},
   "outputs": [
    {
     "name": "stdout",
     "output_type": "stream",
     "text": [
      "Multiplication time: 0.001994609832763672\n",
      "Vectorization time(dot product): 0.006352901458740234\n"
     ]
    }
   ],
   "source": [
    "import time\n",
    "\n",
    "N = 1000000  # Number of elements\n",
    "x1 = np.random.random(N)\n",
    "x2 = np.random.random(N)\n",
    "\n",
    "start_time = time.time()\n",
    "multi_result = np.multiply(x1, x2)\n",
    "end_time = time.time()\n",
    "multi_time = end_time - start_time\n",
    "\n",
    "start_time = time.time()\n",
    "dot_result = np.dot(x1, x2)\n",
    "end_time = time.time()\n",
    "dot_time = end_time - start_time\n",
    "\n",
    "print(\"Multiplication time:\", multi_time)\n",
    "print(\"Vectorization time(dot product):\", dot_time)"
   ]
  },
  {
   "cell_type": "markdown",
   "id": "3c90c58d",
   "metadata": {},
   "source": [
    "## Part-VI: Implement L1 and L2 loss functions"
   ]
  },
  {
   "cell_type": "code",
   "execution_count": 15,
   "id": "ec25a99e",
   "metadata": {},
   "outputs": [],
   "source": [
    "# The loss is used to evaluate the performance of your model. The bigger your loss is, the more different your predictions (ypred) are from the true values (y). In deep learning, you use optimization algorithms like Gradient Descent to train your model and to minimize the cost."
   ]
  },
  {
   "cell_type": "markdown",
   "id": "3d63caee",
   "metadata": {},
   "source": [
    "#### 1). Write a method loss_l1(y, ypred) that takes the actual value y andpredicted value ypred and returns l1 loss value. Test your function with the following vectors. \n",
    "#### y = np.array([1, 0, 0, 1, 1])\n",
    "#### ypred = np.array([.9, 0.2, 0.1, .4, .9])\n",
    "#### // Your output will be 1.1"
   ]
  },
  {
   "cell_type": "code",
   "execution_count": 17,
   "id": "0214fd75",
   "metadata": {},
   "outputs": [
    {
     "name": "stdout",
     "output_type": "stream",
     "text": [
      "L1 Loss: 0.22000000000000003\n"
     ]
    }
   ],
   "source": [
    "def loss_l1(y, ypred):\n",
    "    return np.mean(np.abs(y - ypred))\n",
    "y = np.array([1, 0, 0, 1, 1])\n",
    "ypred = np.array([0.9, 0.2, 0.1, 0.4, 0.9])\n",
    "l1_loss = loss_l1(y, ypred)\n",
    "\n",
    "print(\"L1 Loss:\", l1_loss)"
   ]
  },
  {
   "cell_type": "markdown",
   "id": "e8810238",
   "metadata": {},
   "source": [
    "#### 2). Write a method loss_l2(y, ypred) that takes the actual value y and predicted value ypred and returns l2 loss value. Test your function with the following vectors.\n",
    "#### y = np.array([1, 0, 0, 1, 1])\n",
    "#### ypred = np.array([.9, 0.2, 0.1, .4, .9])\n",
    "#### // Your output will be 0.43"
   ]
  },
  {
   "cell_type": "code",
   "execution_count": 16,
   "id": "26e2fa74",
   "metadata": {},
   "outputs": [
    {
     "name": "stdout",
     "output_type": "stream",
     "text": [
      "L2 Loss: 0.086\n"
     ]
    }
   ],
   "source": [
    "def loss_l2(y, ypred):\n",
    "    return np.mean(np.square(y - ypred))\n",
    "\n",
    "y = np.array([1, 0, 0, 1, 1])\n",
    "ypred = np.array([0.9, 0.2, 0.1, 0.4, 0.9])\n",
    "\n",
    "l2_loss = loss_l2(y, ypred)\n",
    "print(\"L2 Loss:\", l2_loss)"
   ]
  },
  {
   "cell_type": "code",
   "execution_count": null,
   "id": "8ef24203",
   "metadata": {},
   "outputs": [],
   "source": []
  }
 ],
 "metadata": {
  "kernelspec": {
   "display_name": "Python 3 (ipykernel)",
   "language": "python",
   "name": "python3"
  },
  "language_info": {
   "codemirror_mode": {
    "name": "ipython",
    "version": 3
   },
   "file_extension": ".py",
   "mimetype": "text/x-python",
   "name": "python",
   "nbconvert_exporter": "python",
   "pygments_lexer": "ipython3",
   "version": "3.9.7"
  }
 },
 "nbformat": 4,
 "nbformat_minor": 5
}
